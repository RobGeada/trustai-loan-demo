{
 "cells": [
  {
   "cell_type": "code",
   "execution_count": 1,
   "id": "01ea3b49",
   "metadata": {},
   "outputs": [
    {
     "name": "stderr",
     "output_type": "stream",
     "text": [
      "SLF4J: Failed to load class \"org.slf4j.impl.StaticLoggerBinder\".\n",
      "SLF4J: Defaulting to no-operation (NOP) logger implementation\n",
      "SLF4J: See http://www.slf4j.org/codes.html#StaticLoggerBinder for further details.\n"
     ]
    },
    {
     "ename": "ImportError",
     "evalue": "cannot import name 'pinv2' from 'scipy.linalg' (/usr/local/lib/python3.10/site-packages/scipy/linalg/__init__.py)",
     "output_type": "error",
     "traceback": [
      "\u001b[0;31m---------------------------------------------------------------------------\u001b[0m",
      "\u001b[0;31mImportError\u001b[0m                               Traceback (most recent call last)",
      "Cell \u001b[0;32mIn [1], line 11\u001b[0m\n\u001b[1;32m      9\u001b[0m \u001b[38;5;28;01mfrom\u001b[39;00m \u001b[38;5;21;01msklearn\u001b[39;00m\u001b[38;5;21;01m.\u001b[39;00m\u001b[38;5;21;01mensemble\u001b[39;00m \u001b[38;5;28;01mimport\u001b[39;00m RandomForestClassifier\n\u001b[1;32m     10\u001b[0m \u001b[38;5;28;01mfrom\u001b[39;00m \u001b[38;5;21;01msklearn\u001b[39;00m\u001b[38;5;21;01m.\u001b[39;00m\u001b[38;5;21;01mmodel_selection\u001b[39;00m \u001b[38;5;28;01mimport\u001b[39;00m train_test_split \u001b[38;5;28;01mas\u001b[39;00m tts\n\u001b[0;32m---> 11\u001b[0m \u001b[38;5;28;01mfrom\u001b[39;00m \u001b[38;5;21;01mskl2onnx\u001b[39;00m \u001b[38;5;28;01mimport\u001b[39;00m convert_sklearn\n\u001b[1;32m     12\u001b[0m \u001b[38;5;28;01mimport\u001b[39;00m \u001b[38;5;21;01mxgboost\u001b[39;00m\n\u001b[1;32m     13\u001b[0m \u001b[38;5;28;01mimport\u001b[39;00m \u001b[38;5;21;01mos\u001b[39;00m\n",
      "File \u001b[0;32m/usr/local/lib/python3.10/site-packages/skl2onnx/__init__.py:15\u001b[0m\n\u001b[1;32m     11\u001b[0m __model_version__ \u001b[38;5;241m=\u001b[39m \u001b[38;5;241m0\u001b[39m\n\u001b[1;32m     12\u001b[0m __max_supported_opset__ \u001b[38;5;241m=\u001b[39m \u001b[38;5;241m18\u001b[39m  \u001b[38;5;66;03m# Converters are tested up to this version.\u001b[39;00m\n\u001b[0;32m---> 15\u001b[0m \u001b[38;5;28;01mfrom\u001b[39;00m \u001b[38;5;21;01m.\u001b[39;00m\u001b[38;5;21;01mconvert\u001b[39;00m \u001b[38;5;28;01mimport\u001b[39;00m convert_sklearn, to_onnx, wrap_as_onnx_mixin  \u001b[38;5;66;03m# noqa\u001b[39;00m\n\u001b[1;32m     16\u001b[0m \u001b[38;5;28;01mfrom\u001b[39;00m \u001b[38;5;21;01m.\u001b[39;00m\u001b[38;5;21;01m_supported_operators\u001b[39;00m \u001b[38;5;28;01mimport\u001b[39;00m (  \u001b[38;5;66;03m# noqa\u001b[39;00m\n\u001b[1;32m     17\u001b[0m     update_registered_converter, get_model_alias\n\u001b[1;32m     18\u001b[0m )\n\u001b[1;32m     19\u001b[0m \u001b[38;5;28;01mfrom\u001b[39;00m \u001b[38;5;21;01m.\u001b[39;00m\u001b[38;5;21;01m_parse\u001b[39;00m \u001b[38;5;28;01mimport\u001b[39;00m update_registered_parser  \u001b[38;5;66;03m# noqa\u001b[39;00m\n",
      "File \u001b[0;32m/usr/local/lib/python3.10/site-packages/skl2onnx/convert.py:8\u001b[0m\n\u001b[1;32m      6\u001b[0m \u001b[38;5;28;01mfrom\u001b[39;00m \u001b[38;5;21;01m.\u001b[39;00m\u001b[38;5;21;01mcommon\u001b[39;00m\u001b[38;5;21;01m.\u001b[39;00m\u001b[38;5;21;01m_topology\u001b[39;00m \u001b[38;5;28;01mimport\u001b[39;00m convert_topology\n\u001b[1;32m      7\u001b[0m \u001b[38;5;28;01mfrom\u001b[39;00m \u001b[38;5;21;01m.\u001b[39;00m\u001b[38;5;21;01mcommon\u001b[39;00m\u001b[38;5;21;01m.\u001b[39;00m\u001b[38;5;21;01mutils_sklearn\u001b[39;00m \u001b[38;5;28;01mimport\u001b[39;00m _process_options\n\u001b[0;32m----> 8\u001b[0m \u001b[38;5;28;01mfrom\u001b[39;00m \u001b[38;5;21;01m.\u001b[39;00m\u001b[38;5;21;01m_parse\u001b[39;00m \u001b[38;5;28;01mimport\u001b[39;00m parse_sklearn_model\n\u001b[1;32m     10\u001b[0m \u001b[38;5;66;03m# Invoke the registration of all our converters and shape calculators.\u001b[39;00m\n\u001b[1;32m     11\u001b[0m \u001b[38;5;28;01mfrom\u001b[39;00m \u001b[38;5;21;01m.\u001b[39;00m \u001b[38;5;28;01mimport\u001b[39;00m shape_calculators  \u001b[38;5;66;03m# noqa\u001b[39;00m\n",
      "File \u001b[0;32m/usr/local/lib/python3.10/site-packages/skl2onnx/_parse.py:42\u001b[0m\n\u001b[1;32m     38\u001b[0m \u001b[38;5;28;01mexcept\u001b[39;00m \u001b[38;5;167;01mImportError\u001b[39;00m:\n\u001b[1;32m     39\u001b[0m     \u001b[38;5;66;03m# changed in 0.20\u001b[39;00m\n\u001b[1;32m     40\u001b[0m     SimpleImputer \u001b[38;5;241m=\u001b[39m \u001b[38;5;28;01mNone\u001b[39;00m\n\u001b[0;32m---> 42\u001b[0m \u001b[38;5;28;01mfrom\u001b[39;00m \u001b[38;5;21;01m.\u001b[39;00m\u001b[38;5;21;01m_supported_operators\u001b[39;00m \u001b[38;5;28;01mimport\u001b[39;00m (\n\u001b[1;32m     43\u001b[0m     _get_sklearn_operator_name, cluster_list, outlier_list)\n\u001b[1;32m     44\u001b[0m \u001b[38;5;28;01mfrom\u001b[39;00m \u001b[38;5;21;01m.\u001b[39;00m\u001b[38;5;21;01m_supported_operators\u001b[39;00m \u001b[38;5;28;01mimport\u001b[39;00m (\n\u001b[1;32m     45\u001b[0m     sklearn_classifier_list, sklearn_operator_name_map)\n\u001b[1;32m     46\u001b[0m \u001b[38;5;28;01mfrom\u001b[39;00m \u001b[38;5;21;01m.\u001b[39;00m\u001b[38;5;21;01mcommon\u001b[39;00m\u001b[38;5;21;01m.\u001b[39;00m\u001b[38;5;21;01m_container\u001b[39;00m \u001b[38;5;28;01mimport\u001b[39;00m SklearnModelContainerNode\n",
      "File \u001b[0;32m/usr/local/lib/python3.10/site-packages/skl2onnx/_supported_operators.py:163\u001b[0m\n\u001b[1;32m    160\u001b[0m \u001b[38;5;28;01mfrom\u001b[39;00m \u001b[38;5;21;01msklearn\u001b[39;00m\u001b[38;5;21;01m.\u001b[39;00m\u001b[38;5;21;01mcluster\u001b[39;00m \u001b[38;5;28;01mimport\u001b[39;00m KMeans, MiniBatchKMeans\n\u001b[1;32m    162\u001b[0m \u001b[38;5;66;03m# Operators for preprocessing and feature engineering\u001b[39;00m\n\u001b[0;32m--> 163\u001b[0m \u001b[38;5;28;01mfrom\u001b[39;00m \u001b[38;5;21;01msklearn\u001b[39;00m\u001b[38;5;21;01m.\u001b[39;00m\u001b[38;5;21;01mcross_decomposition\u001b[39;00m \u001b[38;5;28;01mimport\u001b[39;00m PLSRegression\n\u001b[1;32m    164\u001b[0m \u001b[38;5;28;01mfrom\u001b[39;00m \u001b[38;5;21;01msklearn\u001b[39;00m\u001b[38;5;21;01m.\u001b[39;00m\u001b[38;5;21;01mdecomposition\u001b[39;00m \u001b[38;5;28;01mimport\u001b[39;00m (\n\u001b[1;32m    165\u001b[0m     KernelPCA,\n\u001b[1;32m    166\u001b[0m     IncrementalPCA,\n\u001b[1;32m    167\u001b[0m     PCA,\n\u001b[1;32m    168\u001b[0m     TruncatedSVD,\n\u001b[1;32m    169\u001b[0m )\n\u001b[1;32m    170\u001b[0m \u001b[38;5;28;01mfrom\u001b[39;00m \u001b[38;5;21;01msklearn\u001b[39;00m\u001b[38;5;21;01m.\u001b[39;00m\u001b[38;5;21;01mfeature_extraction\u001b[39;00m \u001b[38;5;28;01mimport\u001b[39;00m (\n\u001b[1;32m    171\u001b[0m     DictVectorizer,\n\u001b[1;32m    172\u001b[0m     FeatureHasher,\n\u001b[1;32m    173\u001b[0m )\n",
      "File \u001b[0;32m/usr/local/lib/python3.10/site-packages/sklearn/cross_decomposition/__init__.py:1\u001b[0m\n\u001b[0;32m----> 1\u001b[0m \u001b[38;5;28;01mfrom\u001b[39;00m \u001b[38;5;21;01m.\u001b[39;00m\u001b[38;5;21;01m_pls\u001b[39;00m \u001b[38;5;28;01mimport\u001b[39;00m PLSCanonical, PLSRegression, PLSSVD, CCA\n\u001b[1;32m      3\u001b[0m __all__ \u001b[38;5;241m=\u001b[39m [\u001b[38;5;124m'\u001b[39m\u001b[38;5;124mPLSCanonical\u001b[39m\u001b[38;5;124m'\u001b[39m, \u001b[38;5;124m'\u001b[39m\u001b[38;5;124mPLSRegression\u001b[39m\u001b[38;5;124m'\u001b[39m, \u001b[38;5;124m'\u001b[39m\u001b[38;5;124mPLSSVD\u001b[39m\u001b[38;5;124m'\u001b[39m, \u001b[38;5;124m'\u001b[39m\u001b[38;5;124mCCA\u001b[39m\u001b[38;5;124m'\u001b[39m]\n",
      "File \u001b[0;32m/usr/local/lib/python3.10/site-packages/sklearn/cross_decomposition/_pls.py:12\u001b[0m\n\u001b[1;32m      9\u001b[0m \u001b[38;5;28;01mfrom\u001b[39;00m \u001b[38;5;21;01mabc\u001b[39;00m \u001b[38;5;28;01mimport\u001b[39;00m ABCMeta, abstractmethod\n\u001b[1;32m     11\u001b[0m \u001b[38;5;28;01mimport\u001b[39;00m \u001b[38;5;21;01mnumpy\u001b[39;00m \u001b[38;5;28;01mas\u001b[39;00m \u001b[38;5;21;01mnp\u001b[39;00m\n\u001b[0;32m---> 12\u001b[0m \u001b[38;5;28;01mfrom\u001b[39;00m \u001b[38;5;21;01mscipy\u001b[39;00m\u001b[38;5;21;01m.\u001b[39;00m\u001b[38;5;21;01mlinalg\u001b[39;00m \u001b[38;5;28;01mimport\u001b[39;00m pinv2, svd\n\u001b[1;32m     14\u001b[0m \u001b[38;5;28;01mfrom\u001b[39;00m \u001b[38;5;21;01m.\u001b[39;00m\u001b[38;5;21;01m.\u001b[39;00m\u001b[38;5;21;01mbase\u001b[39;00m \u001b[38;5;28;01mimport\u001b[39;00m BaseEstimator, RegressorMixin, TransformerMixin\n\u001b[1;32m     15\u001b[0m \u001b[38;5;28;01mfrom\u001b[39;00m \u001b[38;5;21;01m.\u001b[39;00m\u001b[38;5;21;01m.\u001b[39;00m\u001b[38;5;21;01mbase\u001b[39;00m \u001b[38;5;28;01mimport\u001b[39;00m MultiOutputMixin\n",
      "\u001b[0;31mImportError\u001b[0m: cannot import name 'pinv2' from 'scipy.linalg' (/usr/local/lib/python3.10/site-packages/scipy/linalg/__init__.py)"
     ]
    }
   ],
   "source": [
    "from demohelpers import *\n",
    "\n",
    "import numpy as np\n",
    "import matplotlib.pyplot as plt\n",
    "from trustyai.model import Model, feature, output, feature_domain\n",
    "import pandas as pd\n",
    "from sklearn.metrics import confusion_matrix\n",
    "import shutil\n",
    "from sklearn.ensemble import RandomForestClassifier\n",
    "from sklearn.model_selection import train_test_split as tts\n",
    "from skl2onnx import convert_sklearn\n",
    "import xgboost\n",
    "import os\n",
    "\n",
    "plt.style.use('https://raw.githubusercontent.com/RobGeada/stylelibs/main/material_rh.mplstyle')\n",
    "\n",
    "%load_ext autoreload\n",
    "%autoreload 2"
   ]
  },
  {
   "cell_type": "markdown",
   "id": "874e031e",
   "metadata": {},
   "source": [
    "# Load Data"
   ]
  },
  {
   "cell_type": "code",
   "execution_count": 8,
   "id": "8122da78",
   "metadata": {},
   "outputs": [],
   "source": [
    "def get_xy(df):\n",
    "    return df[[x for x in list(df) if x not in [outcome, \"Prediction\", \"Prediction_Unbiased\"]]], df[outcome]"
   ]
  },
  {
   "cell_type": "code",
   "execution_count": 9,
   "id": "fe0da974",
   "metadata": {},
   "outputs": [
    {
     "name": "stderr",
     "output_type": "stream",
     "text": [
      "/Users/rob/Documents/RedHat/trustyai-demo/trustyai-odh-notebook-demo/demohelpers.py:101: FutureWarning: In a future version of pandas all arguments of DataFrame.drop except for the argument 'labels' will be keyword-only.\n",
      "  data = data.drop(\n"
     ]
    }
   ],
   "source": [
    "np.random.seed(0)\n",
    "data = get_loan_data()\n",
    "feature_names = [x for x in list(data) if x!=\"Default?\"]\n",
    "outcome = \"Default?\"\n",
    "favorable = 0"
   ]
  },
  {
   "cell_type": "markdown",
   "id": "e6f98f9b",
   "metadata": {},
   "source": [
    "# Balance Data Artificially"
   ]
  },
  {
   "cell_type": "code",
   "execution_count": 10,
   "id": "b1976cd9",
   "metadata": {},
   "outputs": [],
   "source": [
    "def balance_data(df, n, field=outcome):\n",
    "    ppos = df[(df[\"Male?\"]==1) & (df[field]==favorable)]\n",
    "    pneg = df[(df[\"Male?\"]==1) & (df[field]!=favorable)]\n",
    "    ptot =  len(ppos) + len(pneg)\n",
    "\n",
    "    upos = df[(df[\"Male?\"]==0) & (df[field]==favorable)]\n",
    "    uneg = df[(df[\"Male?\"]==0) & (df[field]!=favorable)]\n",
    "    utot =  len(upos) + len(uneg)\n",
    "    new_utot = n\n",
    "\n",
    "    upos = upos.iloc[:int(len(ppos)*new_utot/ptot)]\n",
    "    uneg = uneg.iloc[:int(len(pneg)*new_utot/ptot)]\n",
    "    new_df = pd.concat([upos, uneg, ppos, pneg])\n",
    "    np.random.seed(0)\n",
    "    return new_df.sample(frac=1).reset_index(drop=True)\n",
    "    \n",
    "joint_data = balance_data(data, 3000) "
   ]
  },
  {
   "cell_type": "code",
   "execution_count": 11,
   "id": "305d74eb",
   "metadata": {},
   "outputs": [
    {
     "data": {
      "text/plain": [
       "-0.00016470412693858627"
      ]
     },
     "execution_count": 11,
     "metadata": {},
     "output_type": "execute_result"
    }
   ],
   "source": [
    "from trustyai.metrics.fairness.group import statistical_parity_difference, \\\n",
    "    disparate_impact_ratio, average_odds_difference, average_predictive_value_difference\n",
    "\n",
    "def get_spd(df, field):\n",
    "    df = df.drop([x for x in list(df) if x not in feature_names+[field]], axis=1)\n",
    "    privileged = df[df['Male?'] == 1]\n",
    "    unprivileged = df[df['Male?'] == 0]\n",
    "    favorable_output = output(field, dtype=\"number\", value=favorable)\n",
    "    return statistical_parity_difference(privileged=privileged,\n",
    "                                          unprivileged=unprivileged,\n",
    "                                          favorable=[favorable_output])\n",
    "\n",
    "get_spd(joint_data, outcome)"
   ]
  },
  {
   "cell_type": "markdown",
   "id": "844f2849",
   "metadata": {},
   "source": [
    "# Unfairly Split Training Data"
   ]
  },
  {
   "cell_type": "code",
   "execution_count": 12,
   "id": "08bf5bd3",
   "metadata": {},
   "outputs": [],
   "source": [
    "predicate = 'Days Old'\n",
    "test_examples_indexer = (joint_data[\"Male?\"]==0) & (joint_data[\"Days Old\"]>15000) & (joint_data[outcome]==favorable)\n",
    "raw_test_examples = joint_data[test_examples_indexer.values]\n",
    "all_train_examples = joint_data[~test_examples_indexer.values]\n",
    "\n",
    "slice_idx = int(len(all_train_examples)*.75)\n",
    "train_examples = all_train_examples.iloc[:slice_idx]\n",
    "train_examples = balance_data(train_examples, 500)\n",
    "print(len(train_examples))\n",
    "print(train_examples[['Male?',outcome]].value_counts())\n",
    "print(\"Train SPD:\",get_spd(train_examples, outcome))\n",
    "\n",
    "print()\n",
    "test_additions = all_train_examples[slice_idx:]\n",
    "test_examples = pd.concat([raw_test_examples, test_additions])\n",
    "print(len(test_examples))\n",
    "print(test_examples[['Male?',outcome]].value_counts())\n",
    "test_examples = test_examples.sample(frac=1).reset_index(drop=True)\n",
    "print(\"Test SPD:\", get_spd(test_examples, outcome))"
   ]
  },
  {
   "cell_type": "code",
   "execution_count": 74,
   "id": "f6a8aefb",
   "metadata": {},
   "outputs": [
    {
     "name": "stdout",
     "output_type": "stream",
     "text": [
      "300\n",
      "Train Accuracy: 77.16%\n",
      "-0.015463776668146245\n"
     ]
    }
   ],
   "source": [
    "np.random.seed(0)\n",
    "unbiased_train, unbiased_test = tts(joint_data, test_size=.1)\n",
    "ub_train = unbiased_train.copy()\n",
    "ub_test = unbiased_test.copy()\n",
    "\n",
    "fake_data = raw_test_examples.copy().sample(300)\n",
    "print(len(fake_data))\n",
    "fake_data[\"Default?\"] = 1\n",
    "\n",
    "#xgb_model = xgboost.XGBClassifier()\n",
    "unbiased_model = RandomForestClassifier()\n",
    "unbiased_model.fit(*get_xy(pd.concat([unbiased_train, fake_data])))\n",
    "\n",
    "print('Train Accuracy: {:.2f}%'.format(unbiased_model.score(*get_xy(unbiased_train))*100))\n",
    "ub_train[\"Prediction\"] = unbiased_model.predict(get_xy(unbiased_train)[0])\n",
    "ub_test[\"Prediction\"] = unbiased_model.predict(get_xy(unbiased_test)[0])\n",
    "train_examples[\"Prediction_Unbiased\"] = unbiased_model.predict(get_xy(train_examples)[0])\n",
    "\n",
    "# print(get_spd(ub_train, outcome))\n",
    "# print(get_spd(ub_test, outcome))\n",
    "# print(get_spd(ub_train, \"Prediction\"))\n",
    "# print(get_spd(ub_test,\"Prediction\"))\n",
    "print(get_spd(train_examples,\"Prediction_Unbiased\"))"
   ]
  },
  {
   "cell_type": "code",
   "execution_count": 75,
   "id": "6db5cdce",
   "metadata": {},
   "outputs": [
    {
     "name": "stdout",
     "output_type": "stream",
     "text": [
      "Train Accuracy: 78.65%\n",
      "Biased Model SPD: 0.007916895309685423\n",
      "Unbiased Model SPD: -0.015463776668146245\n"
     ]
    }
   ],
   "source": [
    "np.random.seed(0)\n",
    "#xgb_model = xgboost.XGBClassifier()\n",
    "model = RandomForestClassifier()\n",
    "model.fit(*get_xy(train_examples));\n",
    "print('Train Accuracy: {:.2f}%'.format(model.score(*get_xy(train_examples))*100))\n",
    "train_preds = model.predict(get_xy(train_examples)[0])\n",
    "train_examples[\"Prediction\"] = train_preds\n",
    "train_examples = balance_data(train_examples, 500, \"Prediction\")\n",
    "train_examples[\"Prediction_Unbiased\"] = unbiased_model.predict(get_xy(train_examples)[0])\n",
    "\n",
    "print(\"Biased Model SPD:\", get_spd(train_examples, \"Prediction\"))\n",
    "print(\"Unbiased Model SPD:\", get_spd(train_examples, \"Prediction_Unbiased\"))"
   ]
  },
  {
   "cell_type": "code",
   "execution_count": 76,
   "id": "cc25716e",
   "metadata": {},
   "outputs": [
    {
     "name": "stdout",
     "output_type": "stream",
     "text": [
      "Test Accuracy: 54.82%\n",
      "\n",
      "  Correctly Predicted Defaulted: 870\n",
      "  Correctly Predicted Payed:     1022\n",
      "Incorrectly Predicted Defaulted: 299\n",
      "Incorrectly Predicted Payed:     1260\n"
     ]
    }
   ],
   "source": [
    "test_preds = model.predict(get_xy(test_examples)[0])\n",
    "test_pred_probs = model.predict_proba(get_xy(test_examples)[0])\n",
    "print('Test Accuracy: {:.2f}%'.format(model.score(*get_xy(test_examples))*100))\n",
    "cmatrix = confusion_matrix(get_xy(test_examples)[1], test_preds)\n",
    "print(\"\\n  Correctly Predicted Defaulted:\", cmatrix[0][0])\n",
    "print(\"  Correctly Predicted Payed:    \", cmatrix[1][1])\n",
    "print(\"Incorrectly Predicted Defaulted:\", cmatrix[1][0])\n",
    "print(\"Incorrectly Predicted Payed:    \", cmatrix[0][1])"
   ]
  },
  {
   "cell_type": "code",
   "execution_count": 77,
   "id": "42fd792d",
   "metadata": {},
   "outputs": [
    {
     "name": "stderr",
     "output_type": "stream",
     "text": [
      "/var/folders/0m/5lsb036n7l98p75674k5zcym0000gp/T/ipykernel_41168/1670456171.py:1: SettingWithCopyWarning: \n",
      "A value is trying to be set on a copy of a slice from a DataFrame.\n",
      "Try using .loc[row_indexer,col_indexer] = value instead\n",
      "\n",
      "See the caveats in the documentation: https://pandas.pydata.org/pandas-docs/stable/user_guide/indexing.html#returning-a-view-versus-a-copy\n",
      "  raw_test_examples['Prediction'] = model.predict(get_xy(raw_test_examples)[0])\n",
      "/var/folders/0m/5lsb036n7l98p75674k5zcym0000gp/T/ipykernel_41168/1670456171.py:2: SettingWithCopyWarning: \n",
      "A value is trying to be set on a copy of a slice from a DataFrame.\n",
      "Try using .loc[row_indexer,col_indexer] = value instead\n",
      "\n",
      "See the caveats in the documentation: https://pandas.pydata.org/pandas-docs/stable/user_guide/indexing.html#returning-a-view-versus-a-copy\n",
      "  raw_test_examples['Prediction_Unbiased'] = unbiased_model.predict(get_xy(raw_test_examples)[0])\n",
      "/var/folders/0m/5lsb036n7l98p75674k5zcym0000gp/T/ipykernel_41168/1670456171.py:7: SettingWithCopyWarning: \n",
      "A value is trying to be set on a copy of a slice from a DataFrame.\n",
      "Try using .loc[row_indexer,col_indexer] = value instead\n",
      "\n",
      "See the caveats in the documentation: https://pandas.pydata.org/pandas-docs/stable/user_guide/indexing.html#returning-a-view-versus-a-copy\n",
      "  test_additions['Prediction'] = model.predict(get_xy(test_additions)[0])\n",
      "/var/folders/0m/5lsb036n7l98p75674k5zcym0000gp/T/ipykernel_41168/1670456171.py:8: SettingWithCopyWarning: \n",
      "A value is trying to be set on a copy of a slice from a DataFrame.\n",
      "Try using .loc[row_indexer,col_indexer] = value instead\n",
      "\n",
      "See the caveats in the documentation: https://pandas.pydata.org/pandas-docs/stable/user_guide/indexing.html#returning-a-view-versus-a-copy\n",
      "  test_additions['Prediction_Unbiased'] = unbiased_model.predict(get_xy(test_additions)[0])\n"
     ]
    }
   ],
   "source": [
    "raw_test_examples['Prediction'] = model.predict(get_xy(raw_test_examples)[0])\n",
    "raw_test_examples['Prediction_Unbiased'] = unbiased_model.predict(get_xy(raw_test_examples)[0])\n",
    "\n",
    "# print(\"Biased Model SPD:\", get_spd(raw_test_examples, \"Prediction\"))\n",
    "# print(\"Unbiased Model SPD:\", get_spd(raw_test_examples, \"Prediction_Unbiased\"))\n",
    "\n",
    "test_additions['Prediction'] = model.predict(get_xy(test_additions)[0])\n",
    "test_additions['Prediction_Unbiased'] = unbiased_model.predict(get_xy(test_additions)[0])\n",
    "combined_train_test = pd.concat([train_examples, test_additions, raw_test_examples])"
   ]
  },
  {
   "cell_type": "code",
   "execution_count": 78,
   "id": "0b69d749",
   "metadata": {},
   "outputs": [
    {
     "name": "stdout",
     "output_type": "stream",
     "text": [
      "6243 0: 0.008 | -0.015\n",
      "6493 1: -0.006 | -0.028\n",
      "6743 2: -0.026 | -0.038\n",
      "6993 3: -0.027 | -0.047\n",
      "7243 4: -0.032 | -0.055\n",
      "7493 5: -0.041 | -0.063\n",
      "7743 6: -0.046 | -0.062\n",
      "7993 7: -0.058 | -0.075\n",
      "8243 8: -0.059 | -0.081\n",
      "8493 9: -0.066 | -0.087\n",
      "8743 10: -0.111 | -0.059\n",
      "8993 11: -0.187 | 0.021\n",
      "9243 12: -0.238 | 0.077\n",
      "9493 13: -0.275 | 0.120\n"
     ]
    }
   ],
   "source": [
    "xs = []\n",
    "ys = []\n",
    "ys_cumul = []\n",
    "ys_cumul_ub = []\n",
    "batch_size = 250\n",
    "batch_sizes = [len(train_examples)] + [len(train_examples)+i for i in range(batch_size, len(test_examples), batch_size)]\n",
    "for idx, i in enumerate(batch_sizes):\n",
    "    xs.append(idx)\n",
    "    score = get_spd(combined_train_test.iloc[:i], \"Prediction\")\n",
    "    score_ub = get_spd(combined_train_test.iloc[:i], \"Prediction_Unbiased\")\n",
    "    print(\"{} {}: {:.3f} | {:.3f}\".format(i, idx, float(score), float(score_ub)))\n",
    "    ys_cumul.append(score)\n",
    "    ys_cumul_ub.append(score_ub)"
   ]
  },
  {
   "cell_type": "code",
   "execution_count": 79,
   "id": "e1c1e92c",
   "metadata": {},
   "outputs": [
    {
     "data": {
      "image/png": "[encoded data removed]",
      "text/plain": [
       "<Figure size 1600x900 with 1 Axes>"
      ]
     },
     "metadata": {},
     "output_type": "display_data"
    }
   ],
   "source": [
    "plt.plot(xs, ys_cumul, label=\"SPD, Cumulative SPD\")\n",
    "plt.plot(xs, ys_cumul_ub, label=\"SPD, Cumulative SPD Unbiased\")\n",
    "#plt.plot(xs, ys, label=f\"SPD, Last {batch_size} Predictions\")\n",
    "plt.fill_between(xs, -.1, .1, alpha=0.1, label=\"Fair SPD Range\")\n",
    "plt.xlabel(\"Days\")\n",
    "plt.xticks(np.arange(len(xs)), [\"Model Deployment\"] + [f\"+{x} Days\" for x in xs[1:]], rotation=45)\n",
    "plt.ylabel(\"SPD\")\n",
    "plt.title(\"SPD: Loan Default, Gender=1 vs Gender=0\")\n",
    "plt.legend()\n",
    "plt.show()"
   ]
  },
  {
   "cell_type": "code",
   "execution_count": 82,
   "id": "ecd1f724",
   "metadata": {},
   "outputs": [
    {
     "name": "stderr",
     "output_type": "stream",
     "text": [
      "[autoreload of pkg_resources failed: Traceback (most recent call last):\n",
      "  File \"/usr/local/lib/python3.10/site-packages/IPython/extensions/autoreload.py\", line 257, in check\n",
      "    superreload(m, reload, self.old_objects)\n",
      "  File \"/usr/local/lib/python3.10/site-packages/IPython/extensions/autoreload.py\", line 455, in superreload\n",
      "    module = reload(module)\n",
      "  File \"/usr/local/Cellar/python@3.10/3.10.10/Frameworks/Python.framework/Versions/3.10/lib/python3.10/importlib/__init__.py\", line 169, in reload\n",
      "  File \"<frozen importlib._bootstrap>\", line 619, in _exec\n",
      "  File \"<frozen importlib._bootstrap_external>\", line 883, in exec_module\n",
      "  File \"<frozen importlib._bootstrap>\", line 241, in _call_with_frames_removed\n",
      "  File \"/usr/local/lib/python3.10/site-packages/pkg_resources/__init__.py\", line 122, in <module>\n",
      "    parse_version = packaging.version.Version\n",
      "AttributeError: module 'pkg_resources._vendor.packaging' has no attribute 'version'\n",
      "]\n",
      "[autoreload of setuptools._distutils failed: Traceback (most recent call last):\n",
      "  File \"/usr/local/lib/python3.10/site-packages/IPython/extensions/autoreload.py\", line 257, in check\n",
      "    superreload(m, reload, self.old_objects)\n",
      "  File \"/usr/local/lib/python3.10/site-packages/IPython/extensions/autoreload.py\", line 455, in superreload\n",
      "    module = reload(module)\n",
      "  File \"/usr/local/Cellar/python@3.10/3.10.10/Frameworks/Python.framework/Versions/3.10/lib/python3.10/importlib/__init__.py\", line 166, in reload\n",
      "  File \"<frozen importlib._bootstrap>\", line 945, in _find_spec\n",
      "  File \"/usr/local/Cellar/python@3.10/3.10.10/Frameworks/Python.framework/Versions/3.10/lib/python3.10/site-packages/_distutils_hack/__init__.py\", line 97, in find_spec\n",
      "  File \"/usr/local/Cellar/python@3.10/3.10.10/Frameworks/Python.framework/Versions/3.10/lib/python3.10/site-packages/_distutils_hack/__init__.py\", line 129, in spec_for_distutils\n",
      "AttributeError: module 'distutils' has no attribute '__file__'\n",
      "]\n",
      "[autoreload of setuptools._reqs failed: Traceback (most recent call last):\n",
      "  File \"/usr/local/lib/python3.10/site-packages/IPython/extensions/autoreload.py\", line 257, in check\n",
      "    superreload(m, reload, self.old_objects)\n",
      "  File \"/usr/local/lib/python3.10/site-packages/IPython/extensions/autoreload.py\", line 455, in superreload\n",
      "    module = reload(module)\n",
      "  File \"/usr/local/Cellar/python@3.10/3.10.10/Frameworks/Python.framework/Versions/3.10/lib/python3.10/importlib/__init__.py\", line 169, in reload\n",
      "  File \"<frozen importlib._bootstrap>\", line 619, in _exec\n",
      "  File \"<frozen importlib._bootstrap_external>\", line 883, in exec_module\n",
      "  File \"<frozen importlib._bootstrap>\", line 241, in _call_with_frames_removed\n",
      "  File \"/usr/local/lib/python3.10/site-packages/setuptools/_reqs.py\", line 1, in <module>\n",
      "    import setuptools.extern.jaraco.text as text\n",
      "ImportError: cannot import name 'text' from 'setuptools._vendor.jaraco' (/usr/local/lib/python3.10/site-packages/setuptools/_vendor/jaraco/__init__.py)\n",
      "]\n",
      "[autoreload of setuptools failed: Traceback (most recent call last):\n",
      "  File \"/usr/local/lib/python3.10/site-packages/IPython/extensions/autoreload.py\", line 257, in check\n",
      "    superreload(m, reload, self.old_objects)\n",
      "  File \"/usr/local/lib/python3.10/site-packages/IPython/extensions/autoreload.py\", line 455, in superreload\n",
      "    module = reload(module)\n",
      "  File \"/usr/local/Cellar/python@3.10/3.10.10/Frameworks/Python.framework/Versions/3.10/lib/python3.10/importlib/__init__.py\", line 169, in reload\n",
      "  File \"<frozen importlib._bootstrap>\", line 619, in _exec\n",
      "  File \"<frozen importlib._bootstrap_external>\", line 883, in exec_module\n",
      "  File \"<frozen importlib._bootstrap>\", line 241, in _call_with_frames_removed\n",
      "  File \"/usr/local/lib/python3.10/site-packages/setuptools/__init__.py\", line 36, in <module>\n",
      "    __version__ = setuptools.version.__version__\n",
      "AttributeError: module 'setuptools' has no attribute 'version'\n",
      "]\n"
     ]
    },
    {
     "ename": "ImportError",
     "evalue": "cannot import name 'pinv2' from 'scipy.linalg' (/usr/local/lib/python3.10/site-packages/scipy/linalg/__init__.py)",
     "output_type": "error",
     "traceback": [
      "\u001b[0;31m---------------------------------------------------------------------------\u001b[0m",
      "\u001b[0;31mImportError\u001b[0m                               Traceback (most recent call last)",
      "Cell \u001b[0;32mIn [82], line 1\u001b[0m\n\u001b[0;32m----> 1\u001b[0m \u001b[38;5;28;01mfrom\u001b[39;00m \u001b[38;5;21;01mskl2onnx\u001b[39;00m \u001b[38;5;28;01mimport\u001b[39;00m convert_sklearn\n",
      "File \u001b[0;32m/usr/local/lib/python3.10/site-packages/skl2onnx/__init__.py:15\u001b[0m\n\u001b[1;32m     11\u001b[0m __model_version__ \u001b[38;5;241m=\u001b[39m \u001b[38;5;241m0\u001b[39m\n\u001b[1;32m     12\u001b[0m __max_supported_opset__ \u001b[38;5;241m=\u001b[39m \u001b[38;5;241m18\u001b[39m  \u001b[38;5;66;03m# Converters are tested up to this version.\u001b[39;00m\n\u001b[0;32m---> 15\u001b[0m \u001b[38;5;28;01mfrom\u001b[39;00m \u001b[38;5;21;01m.\u001b[39;00m\u001b[38;5;21;01mconvert\u001b[39;00m \u001b[38;5;28;01mimport\u001b[39;00m convert_sklearn, to_onnx, wrap_as_onnx_mixin  \u001b[38;5;66;03m# noqa\u001b[39;00m\n\u001b[1;32m     16\u001b[0m \u001b[38;5;28;01mfrom\u001b[39;00m \u001b[38;5;21;01m.\u001b[39;00m\u001b[38;5;21;01m_supported_operators\u001b[39;00m \u001b[38;5;28;01mimport\u001b[39;00m (  \u001b[38;5;66;03m# noqa\u001b[39;00m\n\u001b[1;32m     17\u001b[0m     update_registered_converter, get_model_alias\n\u001b[1;32m     18\u001b[0m )\n\u001b[1;32m     19\u001b[0m \u001b[38;5;28;01mfrom\u001b[39;00m \u001b[38;5;21;01m.\u001b[39;00m\u001b[38;5;21;01m_parse\u001b[39;00m \u001b[38;5;28;01mimport\u001b[39;00m update_registered_parser  \u001b[38;5;66;03m# noqa\u001b[39;00m\n",
      "File \u001b[0;32m/usr/local/lib/python3.10/site-packages/skl2onnx/convert.py:8\u001b[0m\n\u001b[1;32m      6\u001b[0m \u001b[38;5;28;01mfrom\u001b[39;00m \u001b[38;5;21;01m.\u001b[39;00m\u001b[38;5;21;01mcommon\u001b[39;00m\u001b[38;5;21;01m.\u001b[39;00m\u001b[38;5;21;01m_topology\u001b[39;00m \u001b[38;5;28;01mimport\u001b[39;00m convert_topology\n\u001b[1;32m      7\u001b[0m \u001b[38;5;28;01mfrom\u001b[39;00m \u001b[38;5;21;01m.\u001b[39;00m\u001b[38;5;21;01mcommon\u001b[39;00m\u001b[38;5;21;01m.\u001b[39;00m\u001b[38;5;21;01mutils_sklearn\u001b[39;00m \u001b[38;5;28;01mimport\u001b[39;00m _process_options\n\u001b[0;32m----> 8\u001b[0m \u001b[38;5;28;01mfrom\u001b[39;00m \u001b[38;5;21;01m.\u001b[39;00m\u001b[38;5;21;01m_parse\u001b[39;00m \u001b[38;5;28;01mimport\u001b[39;00m parse_sklearn_model\n\u001b[1;32m     10\u001b[0m \u001b[38;5;66;03m# Invoke the registration of all our converters and shape calculators.\u001b[39;00m\n\u001b[1;32m     11\u001b[0m \u001b[38;5;28;01mfrom\u001b[39;00m \u001b[38;5;21;01m.\u001b[39;00m \u001b[38;5;28;01mimport\u001b[39;00m shape_calculators  \u001b[38;5;66;03m# noqa\u001b[39;00m\n",
      "File \u001b[0;32m/usr/local/lib/python3.10/site-packages/skl2onnx/_parse.py:42\u001b[0m\n\u001b[1;32m     38\u001b[0m \u001b[38;5;28;01mexcept\u001b[39;00m \u001b[38;5;167;01mImportError\u001b[39;00m:\n\u001b[1;32m     39\u001b[0m     \u001b[38;5;66;03m# changed in 0.20\u001b[39;00m\n\u001b[1;32m     40\u001b[0m     SimpleImputer \u001b[38;5;241m=\u001b[39m \u001b[38;5;28;01mNone\u001b[39;00m\n\u001b[0;32m---> 42\u001b[0m \u001b[38;5;28;01mfrom\u001b[39;00m \u001b[38;5;21;01m.\u001b[39;00m\u001b[38;5;21;01m_supported_operators\u001b[39;00m \u001b[38;5;28;01mimport\u001b[39;00m (\n\u001b[1;32m     43\u001b[0m     _get_sklearn_operator_name, cluster_list, outlier_list)\n\u001b[1;32m     44\u001b[0m \u001b[38;5;28;01mfrom\u001b[39;00m \u001b[38;5;21;01m.\u001b[39;00m\u001b[38;5;21;01m_supported_operators\u001b[39;00m \u001b[38;5;28;01mimport\u001b[39;00m (\n\u001b[1;32m     45\u001b[0m     sklearn_classifier_list, sklearn_operator_name_map)\n\u001b[1;32m     46\u001b[0m \u001b[38;5;28;01mfrom\u001b[39;00m \u001b[38;5;21;01m.\u001b[39;00m\u001b[38;5;21;01mcommon\u001b[39;00m\u001b[38;5;21;01m.\u001b[39;00m\u001b[38;5;21;01m_container\u001b[39;00m \u001b[38;5;28;01mimport\u001b[39;00m SklearnModelContainerNode\n",
      "File \u001b[0;32m/usr/local/lib/python3.10/site-packages/skl2onnx/_supported_operators.py:163\u001b[0m\n\u001b[1;32m    160\u001b[0m \u001b[38;5;28;01mfrom\u001b[39;00m \u001b[38;5;21;01msklearn\u001b[39;00m\u001b[38;5;21;01m.\u001b[39;00m\u001b[38;5;21;01mcluster\u001b[39;00m \u001b[38;5;28;01mimport\u001b[39;00m KMeans, MiniBatchKMeans\n\u001b[1;32m    162\u001b[0m \u001b[38;5;66;03m# Operators for preprocessing and feature engineering\u001b[39;00m\n\u001b[0;32m--> 163\u001b[0m \u001b[38;5;28;01mfrom\u001b[39;00m \u001b[38;5;21;01msklearn\u001b[39;00m\u001b[38;5;21;01m.\u001b[39;00m\u001b[38;5;21;01mcross_decomposition\u001b[39;00m \u001b[38;5;28;01mimport\u001b[39;00m PLSRegression\n\u001b[1;32m    164\u001b[0m \u001b[38;5;28;01mfrom\u001b[39;00m \u001b[38;5;21;01msklearn\u001b[39;00m\u001b[38;5;21;01m.\u001b[39;00m\u001b[38;5;21;01mdecomposition\u001b[39;00m \u001b[38;5;28;01mimport\u001b[39;00m (\n\u001b[1;32m    165\u001b[0m     KernelPCA,\n\u001b[1;32m    166\u001b[0m     IncrementalPCA,\n\u001b[1;32m    167\u001b[0m     PCA,\n\u001b[1;32m    168\u001b[0m     TruncatedSVD,\n\u001b[1;32m    169\u001b[0m )\n\u001b[1;32m    170\u001b[0m \u001b[38;5;28;01mfrom\u001b[39;00m \u001b[38;5;21;01msklearn\u001b[39;00m\u001b[38;5;21;01m.\u001b[39;00m\u001b[38;5;21;01mfeature_extraction\u001b[39;00m \u001b[38;5;28;01mimport\u001b[39;00m (\n\u001b[1;32m    171\u001b[0m     DictVectorizer,\n\u001b[1;32m    172\u001b[0m     FeatureHasher,\n\u001b[1;32m    173\u001b[0m )\n",
      "File \u001b[0;32m/usr/local/lib/python3.10/site-packages/sklearn/cross_decomposition/__init__.py:1\u001b[0m\n\u001b[0;32m----> 1\u001b[0m \u001b[38;5;28;01mfrom\u001b[39;00m \u001b[38;5;21;01m.\u001b[39;00m\u001b[38;5;21;01m_pls\u001b[39;00m \u001b[38;5;28;01mimport\u001b[39;00m PLSCanonical, PLSRegression, PLSSVD, CCA\n\u001b[1;32m      3\u001b[0m __all__ \u001b[38;5;241m=\u001b[39m [\u001b[38;5;124m'\u001b[39m\u001b[38;5;124mPLSCanonical\u001b[39m\u001b[38;5;124m'\u001b[39m, \u001b[38;5;124m'\u001b[39m\u001b[38;5;124mPLSRegression\u001b[39m\u001b[38;5;124m'\u001b[39m, \u001b[38;5;124m'\u001b[39m\u001b[38;5;124mPLSSVD\u001b[39m\u001b[38;5;124m'\u001b[39m, \u001b[38;5;124m'\u001b[39m\u001b[38;5;124mCCA\u001b[39m\u001b[38;5;124m'\u001b[39m]\n",
      "File \u001b[0;32m/usr/local/lib/python3.10/site-packages/sklearn/cross_decomposition/_pls.py:12\u001b[0m\n\u001b[1;32m      9\u001b[0m \u001b[38;5;28;01mfrom\u001b[39;00m \u001b[38;5;21;01mabc\u001b[39;00m \u001b[38;5;28;01mimport\u001b[39;00m ABCMeta, abstractmethod\n\u001b[1;32m     11\u001b[0m \u001b[38;5;28;01mimport\u001b[39;00m \u001b[38;5;21;01mnumpy\u001b[39;00m \u001b[38;5;28;01mas\u001b[39;00m \u001b[38;5;21;01mnp\u001b[39;00m\n\u001b[0;32m---> 12\u001b[0m \u001b[38;5;28;01mfrom\u001b[39;00m \u001b[38;5;21;01mscipy\u001b[39;00m\u001b[38;5;21;01m.\u001b[39;00m\u001b[38;5;21;01mlinalg\u001b[39;00m \u001b[38;5;28;01mimport\u001b[39;00m pinv2, svd\n\u001b[1;32m     14\u001b[0m \u001b[38;5;28;01mfrom\u001b[39;00m \u001b[38;5;21;01m.\u001b[39;00m\u001b[38;5;21;01m.\u001b[39;00m\u001b[38;5;21;01mbase\u001b[39;00m \u001b[38;5;28;01mimport\u001b[39;00m BaseEstimator, RegressorMixin, TransformerMixin\n\u001b[1;32m     15\u001b[0m \u001b[38;5;28;01mfrom\u001b[39;00m \u001b[38;5;21;01m.\u001b[39;00m\u001b[38;5;21;01m.\u001b[39;00m\u001b[38;5;21;01mbase\u001b[39;00m \u001b[38;5;28;01mimport\u001b[39;00m MultiOutputMixin\n",
      "\u001b[0;31mImportError\u001b[0m: cannot import name 'pinv2' from 'scipy.linalg' (/usr/local/lib/python3.10/site-packages/scipy/linalg/__init__.py)"
     ]
    }
   ],
   "source": []
  },
  {
   "cell_type": "code",
   "execution_count": 73,
   "id": "38b55f4d",
   "metadata": {},
   "outputs": [],
   "source": [
    "batch_start = 0\n",
    "batch_pairs = []\n",
    "for idx, batch in enumerate(batch_sizes):\n",
    "    if idx==0:\n",
    "        batch_pairs.append([0, batch])\n",
    "    else:\n",
    "        batch_pairs.append([batch_sizes[idx-1], batch])"
   ]
  },
  {
   "cell_type": "code",
   "execution_count": 49,
   "id": "643b43dd",
   "metadata": {},
   "outputs": [
    {
     "name": "stdout",
     "output_type": "stream",
     "text": [
      "training_data 6243\n",
      "batch_01 250\n",
      "batch_02 250\n",
      "batch_03 250\n",
      "batch_04 250\n",
      "batch_05 250\n",
      "batch_06 250\n",
      "batch_07 250\n",
      "batch_08 250\n",
      "batch_09 250\n",
      "batch_10 250\n",
      "batch_11 250\n",
      "batch_12 250\n",
      "batch_13 250\n"
     ]
    }
   ],
   "source": [
    "def convert_to_json(datapoint):\n",
    "    return \"\"\"{{\n",
    "  \"inputs\": [\n",
    "    {{\n",
    "      \"name\": \"predict\",\n",
    "      \"shape\": [1, 11],\n",
    "      \"datatype\": \"FP64\",\n",
    "      \"data\": {}\n",
    "    }}\n",
    "  ]\n",
    "}}\"\"\".format(list(datapoint.values))\n",
    "\n",
    "for idx, batch in enumerate(batch_sizes):\n",
    "    path = \"/Users/rob/Documents/RedHat/StevenHuelsDemo/resources/data_json/\"\n",
    "    if idx==0:\n",
    "        bname= \"training_data\"\n",
    "    else:\n",
    "        bname=\"batch_{}\".format(str(idx).zfill(2))\n",
    "    bpath = path+bname\n",
    "    \n",
    "    if bname not in os.listdir(path):\n",
    "        os.mkdir(bpath)\n",
    "    else:\n",
    "        shutil.rmtree(bpath)\n",
    "        os.mkdir(bpath)\n",
    "        \n",
    "    subslice = combined_train_test[batch_pairs[idx][0]:batch_pairs[idx][1]]\n",
    "    subx = subslice[[x for x in list(subslice) if x not in [outcome, \"Prediction\"]]]\n",
    "    print(bname, len(subx))\n",
    "\n",
    "    for i in range(len(subx)):\n",
    "        with open(bpath+\"/{}.json\".format(i), \"w\") as f:\n",
    "            f.write(convert_to_json(subx.iloc[i]))"
   ]
  },
  {
   "cell_type": "code",
   "execution_count": null,
   "id": "40e02908",
   "metadata": {},
   "outputs": [],
   "source": [
    "subx"
   ]
  },
  {
   "cell_type": "code",
   "execution_count": null,
   "id": "c17b48ac",
   "metadata": {},
   "outputs": [],
   "source": [
    "b1 = subx.iloc[:500]\n",
    "b1[b1.apply(lambda x: np.array_equal(x.values, [0.0,112500.0,2.0,1.0,1.0,1.0,1.0,1.0,0.0,20502.0,4450.0]), 1)]"
   ]
  },
  {
   "cell_type": "code",
   "execution_count": null,
   "id": "ab03dece",
   "metadata": {},
   "outputs": [],
   "source": [
    "subx.iloc[:2].values"
   ]
  },
  {
   "cell_type": "code",
   "execution_count": null,
   "id": "c68c2587",
   "metadata": {},
   "outputs": [],
   "source": [
    "for idx, batch in enumerate(batch_sizes):\n",
    "    subslice = combined_train_test[:batch]\n",
    "    \n",
    "    subx = subslice[[x for x in list(subslice) if x not in [outcome, \"Prediction\"]]]\n",
    "    suby = subslice[\"Prediction\"]\n",
    "    subx.to_csv(f\"biased_loan_data/input_batches/batch{idx}.csv\", index=False)\n",
    "    suby.to_csv(f\"biased_loan_data/output_batches/batch{idx}.csv\", index=False)"
   ]
  },
  {
   "cell_type": "code",
   "execution_count": null,
   "id": "8e65a12a",
   "metadata": {
    "scrolled": true
   },
   "outputs": [],
   "source": [
    "# for idx, i in enumerate(batch_sizes):\n",
    "#     xs.append(idx)\n",
    "#     df = pd.read_csv(f\"biased_loan_data/batches/batch{idx}.csv\")\n",
    "#     score = get_spd(df, \"Prediction\")\n",
    "#     print(i, idx, score)\n",
    "#     ys_cumul.append(score)"
   ]
  },
  {
   "cell_type": "code",
   "execution_count": null,
   "id": "99f12605",
   "metadata": {},
   "outputs": [],
   "source": [
    "for idx, batch in enumerate(batch_sizes):\n",
    "    subslice = combined_train_test[:batch]\n",
    "        "
   ]
  },
  {
   "cell_type": "code",
   "execution_count": null,
   "id": "7f1965ca",
   "metadata": {},
   "outputs": [],
   "source": [
    "import joblib\n",
    "joblib.dump(model, \"loan_model.joblib\")"
   ]
  },
  {
   "cell_type": "code",
   "execution_count": null,
   "id": "535dcd1e",
   "metadata": {},
   "outputs": [],
   "source": [
    "import pickle\n",
    "with open(\"loan_model.sav\", \"wb\") as f:\n",
    "    pickle.dump(model, f)"
   ]
  },
  {
   "cell_type": "code",
   "execution_count": null,
   "id": "8221a759",
   "metadata": {},
   "outputs": [],
   "source": []
  },
  {
   "cell_type": "code",
   "execution_count": null,
   "id": "67980e27",
   "metadata": {},
   "outputs": [],
   "source": []
  }
 ],
 "metadata": {
  "kernelspec": {
   "display_name": "Python 3.10.8",
   "language": "python",
   "name": "python3"
  },
  "language_info": {
   "codemirror_mode": {
    "name": "ipython",
    "version": 3
   },
   "file_extension": ".py",
   "mimetype": "text/x-python",
   "name": "python",
   "nbconvert_exporter": "python",
   "pygments_lexer": "ipython3",
   "version": "3.10.10"
  },
  "toc": {
   "base_numbering": 1,
   "nav_menu": {},
   "number_sections": true,
   "sideBar": true,
   "skip_h1_title": false,
   "title_cell": "Table of Contents",
   "title_sidebar": "Contents",
   "toc_cell": false,
   "toc_position": {},
   "toc_section_display": true,
   "toc_window_display": false
  }
 },
 "nbformat": 4,
 "nbformat_minor": 5
}
